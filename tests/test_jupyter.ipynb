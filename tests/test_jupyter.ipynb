{
 "cells": [
  {
   "cell_type": "markdown",
   "metadata": {},
   "source": [
    "# Testing out Jupyter Notebook additional app_options"
   ]
  },
  {
   "cell_type": "code",
   "execution_count": null,
   "metadata": {},
   "outputs": [],
   "source": [
    "#%pip install --user fusion-tools[interactive]==3.5.13"
   ]
  },
  {
   "cell_type": "code",
   "execution_count": null,
   "metadata": {},
   "outputs": [],
   "source": [
    "import os\n",
    "import sys\n",
    "sys.path.append('../src/')\n",
    "\n",
    "from fusion_tools.visualization import Visualization\n",
    "from fusion_tools.handler.dsa_handler import DSAHandler\n",
    "from fusion_tools.components import SlideMap,OverlayOptions, PropertyViewer, PropertyPlotter, HRAViewer\n",
    "from fusion_tools.utils.shapes import load_visium\n",
    "from fusion_tools.utils.omics import get_gene_info\n",
    "\n",
    "import pandas as pd\n",
    "import anndata as ad\n",
    "\n",
    "test = ad.read_h5ad(\"C:\\\\Users\\\\samuelborder\\\\Desktop\\\\HIVE_Stuff\\\\FUSION\\\\Test Upload\\\\non_kidney\\\\secondary_analysis (1).h5ad\")\n",
    "print(test.var_names)\n",
    "print(test.var_names.tolist()[0])\n",
    "test_gene_info = get_gene_info([test.var_names.tolist()[0]])\n",
    "print(test_gene_info)\n"
   ]
  },
  {
   "cell_type": "code",
   "execution_count": null,
   "metadata": {},
   "outputs": [],
   "source": [
    "# Grabbing first item from demo DSA instance\n",
    "base_url = 'http://ec2-3-230-122-132.compute-1.amazonaws.com:8080/api/v1'\n",
    "item_id = '64f545302d82d04be3e39eec'\n",
    "\n",
    "# Starting the DSAHandler to grab information:\n",
    "dsa_handler = DSAHandler(\n",
    "    girderApiUrl = base_url\n",
    ")\n",
    "dsa_tileservers = [dsa_handler.get_tile_server(item_id)]\n",
    "\n",
    "local_slide_list = [\n",
    "    'C:\\\\Users\\\\samuelborder\\\\Desktop\\\\HIVE_Stuff\\\\FUSION\\\\Test Upload\\\\XY01_IU-21-015F_001.svs',\n",
    "    'C:\\\\Users\\\\samuelborder\\\\Desktop\\\\HIVE_Stuff\\\\FUSION\\\\Test Upload\\\\XY01_IU-21-015F.svs',\n",
    "    \"C:\\\\Users\\\\samuelborder\\\\Desktop\\\\HIVE_Stuff\\\\FUSION\\\\Test Upload\\\\non_kidney\\\\visium_histology_hires_pyramid.ome.tif\"\n",
    "]\n",
    "local_annotations_list = [\n",
    "    'C:\\\\Users\\\\samuelborder\\\\Desktop\\\\HIVE_Stuff\\\\FUSION\\\\Test Upload\\\\XY01_IU-21-015F_001.xml',\n",
    "    None,\n",
    "    load_visium(\"C:\\\\Users\\\\samuelborder\\\\Desktop\\\\HIVE_Stuff\\\\FUSION\\\\Test Upload\\\\non_kidney\\\\secondary_analysis (1).h5ad\",)\n",
    "]\n",
    "\n",
    "vis_session = Visualization(\n",
    "    local_slides=local_slide_list,\n",
    "    local_annotations = local_annotations_list,\n",
    "    tileservers = dsa_tileservers,\n",
    "    components = [\n",
    "        [\n",
    "            SlideMap(),\n",
    "            [\n",
    "                OverlayOptions(),\n",
    "                PropertyViewer(),\n",
    "                PropertyPlotter(),\n",
    "                HRAViewer()\n",
    "            ]\n",
    "        ]\n",
    "    ],\n",
    "    app_options = {\n",
    "        'jupyter': True,\n",
    "        'port': 8060,\n",
    "    }\n",
    ")\n",
    "\n",
    "vis_session.start()\n",
    "\n"
   ]
  }
 ],
 "metadata": {
  "kernelspec": {
   "display_name": ".venv",
   "language": "python",
   "name": "python3"
  },
  "language_info": {
   "codemirror_mode": {
    "name": "ipython",
    "version": 3
   },
   "file_extension": ".py",
   "mimetype": "text/x-python",
   "name": "python",
   "nbconvert_exporter": "python",
   "pygments_lexer": "ipython3",
   "version": "3.11.3"
  }
 },
 "nbformat": 4,
 "nbformat_minor": 2
}
