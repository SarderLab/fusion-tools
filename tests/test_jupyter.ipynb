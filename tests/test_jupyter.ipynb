{
 "cells": [
  {
   "cell_type": "markdown",
   "metadata": {},
   "source": [
    "# Testing out Jupyter Notebook additional app_options"
   ]
  },
  {
   "cell_type": "code",
   "execution_count": 1,
   "metadata": {},
   "outputs": [],
   "source": [
    "#%pip install fusion-tools[interactive]==3.5.21"
   ]
  },
  {
   "cell_type": "code",
   "execution_count": null,
   "metadata": {},
   "outputs": [
    {
     "name": "stderr",
     "output_type": "stream",
     "text": [
      "c:\\Users\\samuelborder\\Desktop\\HIVE_Stuff\\FUSION\\Tools\\fusion-tools\\.venv\\Lib\\site-packages\\tqdm\\auto.py:21: TqdmWarning: IProgress not found. Please update jupyter and ipywidgets. See https://ipywidgets.readthedocs.io/en/stable/user_install.html\n",
      "  from .autonotebook import tqdm as notebook_tqdm\n"
     ]
    }
   ],
   "source": [
    "import os\n",
    "import sys\n",
    "sys.path.append('../src/')\n",
    "\n",
    "from fusion_tools.visualization import Visualization\n",
    "from fusion_tools.handler.dsa_handler import DSAHandler\n",
    "from fusion_tools.components import SlideMap,OverlayOptions, PropertyViewer, PropertyPlotter, HRAViewer\n",
    "\n",
    "from fusion_tools.utils.shapes import load_visium"
   ]
  },
  {
   "cell_type": "code",
   "execution_count": 3,
   "metadata": {},
   "outputs": [
    {
     "ename": "NameError",
     "evalue": "name 'load_visium' is not defined",
     "output_type": "error",
     "traceback": [
      "\u001b[1;31m---------------------------------------------------------------------------\u001b[0m",
      "\u001b[1;31mNameError\u001b[0m                                 Traceback (most recent call last)",
      "Cell \u001b[1;32mIn[3], line 19\u001b[0m\n\u001b[0;32m      9\u001b[0m dsa_tileservers \u001b[38;5;241m=\u001b[39m [dsa_handler\u001b[38;5;241m.\u001b[39mget_tile_server(item_id)]\n\u001b[0;32m     11\u001b[0m local_slide_list \u001b[38;5;241m=\u001b[39m [\n\u001b[0;32m     12\u001b[0m     \u001b[38;5;124m'\u001b[39m\u001b[38;5;124mC:\u001b[39m\u001b[38;5;130;01m\\\\\u001b[39;00m\u001b[38;5;124mUsers\u001b[39m\u001b[38;5;130;01m\\\\\u001b[39;00m\u001b[38;5;124msamuelborder\u001b[39m\u001b[38;5;130;01m\\\\\u001b[39;00m\u001b[38;5;124mDesktop\u001b[39m\u001b[38;5;130;01m\\\\\u001b[39;00m\u001b[38;5;124mHIVE_Stuff\u001b[39m\u001b[38;5;130;01m\\\\\u001b[39;00m\u001b[38;5;124mFUSION\u001b[39m\u001b[38;5;130;01m\\\\\u001b[39;00m\u001b[38;5;124mTest Upload\u001b[39m\u001b[38;5;130;01m\\\\\u001b[39;00m\u001b[38;5;124mXY01_IU-21-015F_001.svs\u001b[39m\u001b[38;5;124m'\u001b[39m,\n\u001b[0;32m     13\u001b[0m     \u001b[38;5;124m'\u001b[39m\u001b[38;5;124mC:\u001b[39m\u001b[38;5;130;01m\\\\\u001b[39;00m\u001b[38;5;124mUsers\u001b[39m\u001b[38;5;130;01m\\\\\u001b[39;00m\u001b[38;5;124msamuelborder\u001b[39m\u001b[38;5;130;01m\\\\\u001b[39;00m\u001b[38;5;124mDesktop\u001b[39m\u001b[38;5;130;01m\\\\\u001b[39;00m\u001b[38;5;124mHIVE_Stuff\u001b[39m\u001b[38;5;130;01m\\\\\u001b[39;00m\u001b[38;5;124mFUSION\u001b[39m\u001b[38;5;130;01m\\\\\u001b[39;00m\u001b[38;5;124mTest Upload\u001b[39m\u001b[38;5;130;01m\\\\\u001b[39;00m\u001b[38;5;124mXY01_IU-21-015F.svs\u001b[39m\u001b[38;5;124m'\u001b[39m,\n\u001b[0;32m     14\u001b[0m     \u001b[38;5;124m\"\u001b[39m\u001b[38;5;124mC:\u001b[39m\u001b[38;5;130;01m\\\\\u001b[39;00m\u001b[38;5;124mUsers\u001b[39m\u001b[38;5;130;01m\\\\\u001b[39;00m\u001b[38;5;124msamuelborder\u001b[39m\u001b[38;5;130;01m\\\\\u001b[39;00m\u001b[38;5;124mDesktop\u001b[39m\u001b[38;5;130;01m\\\\\u001b[39;00m\u001b[38;5;124mHIVE_Stuff\u001b[39m\u001b[38;5;130;01m\\\\\u001b[39;00m\u001b[38;5;124mFUSION\u001b[39m\u001b[38;5;130;01m\\\\\u001b[39;00m\u001b[38;5;124mTest Upload\u001b[39m\u001b[38;5;130;01m\\\\\u001b[39;00m\u001b[38;5;124mnon_kidney\u001b[39m\u001b[38;5;130;01m\\\\\u001b[39;00m\u001b[38;5;124mvisium_histology_hires_pyramid.ome.tif\u001b[39m\u001b[38;5;124m\"\u001b[39m\n\u001b[0;32m     15\u001b[0m ]\n\u001b[0;32m     16\u001b[0m local_annotations_list \u001b[38;5;241m=\u001b[39m [\n\u001b[0;32m     17\u001b[0m     \u001b[38;5;124m'\u001b[39m\u001b[38;5;124mC:\u001b[39m\u001b[38;5;130;01m\\\\\u001b[39;00m\u001b[38;5;124mUsers\u001b[39m\u001b[38;5;130;01m\\\\\u001b[39;00m\u001b[38;5;124msamuelborder\u001b[39m\u001b[38;5;130;01m\\\\\u001b[39;00m\u001b[38;5;124mDesktop\u001b[39m\u001b[38;5;130;01m\\\\\u001b[39;00m\u001b[38;5;124mHIVE_Stuff\u001b[39m\u001b[38;5;130;01m\\\\\u001b[39;00m\u001b[38;5;124mFUSION\u001b[39m\u001b[38;5;130;01m\\\\\u001b[39;00m\u001b[38;5;124mTest Upload\u001b[39m\u001b[38;5;130;01m\\\\\u001b[39;00m\u001b[38;5;124mXY01_IU-21-015F_001.xml\u001b[39m\u001b[38;5;124m'\u001b[39m,\n\u001b[0;32m     18\u001b[0m     \u001b[38;5;28;01mNone\u001b[39;00m,\n\u001b[1;32m---> 19\u001b[0m     \u001b[43mload_visium\u001b[49m(\u001b[38;5;124m\"\u001b[39m\u001b[38;5;124mC:\u001b[39m\u001b[38;5;130;01m\\\\\u001b[39;00m\u001b[38;5;124mUsers\u001b[39m\u001b[38;5;130;01m\\\\\u001b[39;00m\u001b[38;5;124msamuelborder\u001b[39m\u001b[38;5;130;01m\\\\\u001b[39;00m\u001b[38;5;124mDesktop\u001b[39m\u001b[38;5;130;01m\\\\\u001b[39;00m\u001b[38;5;124mHIVE_Stuff\u001b[39m\u001b[38;5;130;01m\\\\\u001b[39;00m\u001b[38;5;124mFUSION\u001b[39m\u001b[38;5;130;01m\\\\\u001b[39;00m\u001b[38;5;124mTest Upload\u001b[39m\u001b[38;5;130;01m\\\\\u001b[39;00m\u001b[38;5;124mnon_kidney\u001b[39m\u001b[38;5;130;01m\\\\\u001b[39;00m\u001b[38;5;124msecondary_analysis (1).h5ad\u001b[39m\u001b[38;5;124m\"\u001b[39m,)\n\u001b[0;32m     20\u001b[0m ]\n\u001b[0;32m     22\u001b[0m vis_session \u001b[38;5;241m=\u001b[39m Visualization(\n\u001b[0;32m     23\u001b[0m     local_slides\u001b[38;5;241m=\u001b[39mlocal_slide_list,\n\u001b[0;32m     24\u001b[0m     local_annotations \u001b[38;5;241m=\u001b[39m local_annotations_list,\n\u001b[1;32m   (...)\u001b[0m\n\u001b[0;32m     40\u001b[0m     }\n\u001b[0;32m     41\u001b[0m )\n\u001b[0;32m     43\u001b[0m vis_session\u001b[38;5;241m.\u001b[39mstart()\n",
      "\u001b[1;31mNameError\u001b[0m: name 'load_visium' is not defined"
     ]
    }
   ],
   "source": [
    "# Grabbing first item from demo DSA instance\n",
    "base_url = 'http://ec2-3-230-122-132.compute-1.amazonaws.com:8080/api/v1'\n",
    "item_id = '64f545302d82d04be3e39eec'\n",
    "\n",
    "# Starting the DSAHandler to grab information:\n",
    "dsa_handler = DSAHandler(\n",
    "    girderApiUrl = base_url\n",
    ")\n",
    "dsa_tileservers = [dsa_handler.get_tile_server(item_id)]\n",
    "\n",
    "local_slide_list = [\n",
    "    'C:\\\\Users\\\\samuelborder\\\\Desktop\\\\HIVE_Stuff\\\\FUSION\\\\Test Upload\\\\XY01_IU-21-015F_001.svs',\n",
    "    'C:\\\\Users\\\\samuelborder\\\\Desktop\\\\HIVE_Stuff\\\\FUSION\\\\Test Upload\\\\XY01_IU-21-015F.svs',\n",
    "    \"C:\\\\Users\\\\samuelborder\\\\Desktop\\\\HIVE_Stuff\\\\FUSION\\\\Test Upload\\\\non_kidney\\\\visium_histology_hires_pyramid.ome.tif\"\n",
    "]\n",
    "local_annotations_list = [\n",
    "    'C:\\\\Users\\\\samuelborder\\\\Desktop\\\\HIVE_Stuff\\\\FUSION\\\\Test Upload\\\\XY01_IU-21-015F_001.xml',\n",
    "    None,\n",
    "    load_visium(\"C:\\\\Users\\\\samuelborder\\\\Desktop\\\\HIVE_Stuff\\\\FUSION\\\\Test Upload\\\\non_kidney\\\\secondary_analysis (1).h5ad\",)\n",
    "]\n",
    "\n",
    "vis_session = Visualization(\n",
    "    local_slides=local_slide_list,\n",
    "    local_annotations = local_annotations_list,\n",
    "    tileservers = dsa_tileservers,\n",
    "    components = [\n",
    "        [\n",
    "            SlideMap(),\n",
    "            [\n",
    "                OverlayOptions(),\n",
    "                PropertyViewer(),\n",
    "                PropertyPlotter(),\n",
    "                HRAViewer()\n",
    "            ]\n",
    "        ]\n",
    "    ],\n",
    "    app_options = {\n",
    "        'jupyter': True,\n",
    "        'port': 8060,\n",
    "    }\n",
    ")\n",
    "\n",
    "vis_session.start()\n",
    "\n"
   ]
  }
 ],
 "metadata": {
  "kernelspec": {
   "display_name": ".venv",
   "language": "python",
   "name": "python3"
  },
  "language_info": {
   "codemirror_mode": {
    "name": "ipython",
    "version": 3
   },
   "file_extension": ".py",
   "mimetype": "text/x-python",
   "name": "python",
   "nbconvert_exporter": "python",
   "pygments_lexer": "ipython3",
   "version": "3.11.3"
  }
 },
 "nbformat": 4,
 "nbformat_minor": 2
}
