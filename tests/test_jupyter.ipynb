{
 "cells": [
  {
   "cell_type": "markdown",
   "metadata": {},
   "source": [
    "# Testing out Jupyter Notebook additional app_options"
   ]
  },
  {
   "cell_type": "code",
   "execution_count": 2,
   "metadata": {},
   "outputs": [
    {
     "name": "stderr",
     "output_type": "stream",
     "text": [
      "c:\\Users\\samuelborder\\Desktop\\HIVE_Stuff\\FUSION\\Tools\\fusion-tools\\.venv\\Lib\\site-packages\\tqdm\\auto.py:21: TqdmWarning: IProgress not found. Please update jupyter and ipywidgets. See https://ipywidgets.readthedocs.io/en/stable/user_install.html\n",
      "  from .autonotebook import tqdm as notebook_tqdm\n"
     ]
    }
   ],
   "source": [
    "import os\n",
    "import sys\n",
    "sys.path.append('../src/')\n",
    "\n",
    "from fusion_tools import Visualization, DSAHandler\n",
    "from fusion_tools.tileserver import DSATileServer\n",
    "from fusion_tools.components import SlideMap,OverlayOptions, PropertyViewer, PropertyPlotter, HRAViewer\n",
    "from fusion_tools.utils.shapes import align_object_props\n",
    "\n",
    "import pandas as pd\n"
   ]
  },
  {
   "cell_type": "code",
   "execution_count": 5,
   "metadata": {},
   "outputs": [
    {
     "data": {
      "text/html": [
       "\n",
       "        <iframe\n",
       "            width=\"100%\"\n",
       "            height=\"650\"\n",
       "            src=\"http://127.0.0.1:8050/\"\n",
       "            frameborder=\"0\"\n",
       "            allowfullscreen\n",
       "            \n",
       "        ></iframe>\n",
       "        "
      ],
      "text/plain": [
       "<IPython.lib.display.IFrame at 0x2495ae48d90>"
      ]
     },
     "metadata": {},
     "output_type": "display_data"
    }
   ],
   "source": [
    "# Grabbing first item from demo DSA instance\n",
    "base_url = 'http://ec2-3-230-122-132.compute-1.amazonaws.com:8080/api/v1'\n",
    "item_id = '64f545302d82d04be3e39eec'\n",
    "\n",
    "# Starting visualization session\n",
    "tile_server = DSATileServer(\n",
    "    api_url = base_url,\n",
    "    item_id = item_id\n",
    ")\n",
    "\n",
    "# Starting the DSAHandler to grab information:\n",
    "dsa_handler = DSAHandler(\n",
    "    girderApiUrl = base_url\n",
    ")\n",
    "\n",
    "annotations = dsa_handler.get_annotations(\n",
    "    item = item_id\n",
    ")\n",
    "\n",
    "vis_session = Visualization(\n",
    "    components = [\n",
    "        [\n",
    "            SlideMap(\n",
    "                tile_server = tile_server,\n",
    "                annotations = annotations\n",
    "            ),\n",
    "            [\n",
    "                OverlayOptions(\n",
    "                    geojson_anns=annotations\n",
    "                ),\n",
    "                PropertyViewer(\n",
    "                    geojson_list=annotations\n",
    "                ),\n",
    "                PropertyPlotter(\n",
    "                    geojson_list=annotations\n",
    "                ),\n",
    "                HRAViewer()\n",
    "            ]\n",
    "        ]\n",
    "    ],\n",
    "    app_options = {'jupyter_mode': 'inline'}\n",
    ")\n",
    "\n",
    "vis_session.start()\n",
    "\n"
   ]
  }
 ],
 "metadata": {
  "kernelspec": {
   "display_name": ".venv",
   "language": "python",
   "name": "python3"
  },
  "language_info": {
   "codemirror_mode": {
    "name": "ipython",
    "version": 3
   },
   "file_extension": ".py",
   "mimetype": "text/x-python",
   "name": "python",
   "nbconvert_exporter": "python",
   "pygments_lexer": "ipython3",
   "version": "3.11.3"
  }
 },
 "nbformat": 4,
 "nbformat_minor": 2
}
