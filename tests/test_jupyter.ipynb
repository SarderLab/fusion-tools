{
 "cells": [
  {
   "cell_type": "markdown",
   "metadata": {},
   "source": [
    "# Testing out Jupyter Notebook additional app_options"
   ]
  },
  {
   "cell_type": "code",
   "execution_count": 9,
   "metadata": {},
   "outputs": [
    {
     "name": "stdout",
     "output_type": "stream",
     "text": [
      "Index(['ENSG00000000003.15', 'ENSG00000000005.6', 'ENSG00000000419.13',\n",
      "       'ENSG00000000457.14', 'ENSG00000000460.17', 'ENSG00000000938.13',\n",
      "       'ENSG00000000971.16', 'ENSG00000001036.14', 'ENSG00000001084.13',\n",
      "       'ENSG00000001167.14',\n",
      "       ...\n",
      "       'ENSG00000288620.1', 'ENSG00000288622.1', 'ENSG00000288630.1',\n",
      "       'ENSG00000288632.1', 'ENSG00000288635.1', 'ENSG00000288637.1',\n",
      "       'ENSG00000288640.1', 'ENSG00000288642.1', 'ENSG00000288643.1',\n",
      "       'ENSG00000288645.1'],\n",
      "      dtype='object', length=23066)\n",
      "ENSG00000000003.15\n",
      "[]\n"
     ]
    }
   ],
   "source": [
    "import os\n",
    "import sys\n",
    "sys.path.append('../src/')\n",
    "\n",
    "from fusion_tools import Visualization, DSAHandler\n",
    "from fusion_tools.components import SlideMap,OverlayOptions, PropertyViewer, PropertyPlotter, HRAViewer\n",
    "from fusion_tools.utils.shapes import load_visium\n",
    "from fusion_tools.utils.omics import get_gene_info\n",
    "\n",
    "import pandas as pd\n",
    "import anndata as ad\n",
    "\n",
    "test = ad.read_h5ad(\"C:\\\\Users\\\\samuelborder\\\\Desktop\\\\HIVE_Stuff\\\\FUSION\\\\Test Upload\\\\non_kidney\\\\secondary_analysis (1).h5ad\")\n",
    "print(test.var_names)\n",
    "print(test.var_names.tolist()[0])\n",
    "test_gene_info = get_gene_info([test.var_names.tolist()[0]])\n",
    "print(test_gene_info)\n"
   ]
  },
  {
   "cell_type": "code",
   "execution_count": null,
   "metadata": {},
   "outputs": [
    {
     "name": "stdout",
     "output_type": "stream",
     "text": [
      "------Creating Visualization with 1 rows, 2 columns, and 4 tabs--------\n",
      "----------------- Components in the same row may communicate through callbacks---------\n"
     ]
    },
    {
     "name": "stderr",
     "output_type": "stream",
     "text": [
      "INFO:     Started server process [14668]\n",
      "INFO:     Waiting for application startup.\n",
      "INFO:     Application startup complete.\n",
      "INFO:     Uvicorn running on http://localhost:8070 (Press CTRL+C to quit)\n"
     ]
    },
    {
     "data": {
      "text/html": [
       "\n",
       "        <iframe\n",
       "            width=\"100%\"\n",
       "            height=\"650\"\n",
       "            src=\"http://localhost:8060/\"\n",
       "            frameborder=\"0\"\n",
       "            allowfullscreen\n",
       "            \n",
       "        ></iframe>\n",
       "        "
      ],
      "text/plain": [
       "<IPython.lib.display.IFrame at 0x22b85b507d0>"
      ]
     },
     "metadata": {},
     "output_type": "display_data"
    },
    {
     "name": "stdout",
     "output_type": "stream",
     "text": [
      "INFO:     ::1:59024 - \"GET /2/annotations HTTP/1.1\" 200 OK\n",
      "INFO:     ::1:59025 - \"GET /2/metadata HTTP/1.1\" 200 OK\n",
      "INFO:     ::1:59027 - \"GET /2/tiles/0/-1/-1 HTTP/1.1\" 200 OK\n",
      "INFO:     ::1:59029 - \"GET /2/tiles/0/-1/0 HTTP/1.1\" 200 OK\n",
      "INFO:     ::1:59028 - \"GET /2/tiles/0/0/-1 HTTP/1.1\" 200 OK\n",
      "INFO:     ::1:59030 - \"GET /2/tiles/0/0/0 HTTP/1.1\" 200 OK\n",
      "INFO:     ::1:59053 - \"GET /2/tiles/1/0/-1 HTTP/1.1\" 200 OK\n",
      "INFO:     ::1:59054 - \"GET /2/tiles/1/0/1 HTTP/1.1\" 200 OK\n",
      "INFO:     ::1:59052 - \"GET /2/tiles/1/0/0 HTTP/1.1\" 200 OK\n",
      "INFO:     ::1:59052 - \"GET /2/tiles/2/0/0 HTTP/1.1\" 200 OK\n",
      "INFO:     ::1:59053 - \"GET /2/tiles/2/0/1 HTTP/1.1\" 200 OK\n",
      "INFO:     ::1:59059 - \"GET /2/tiles/2/1/1 HTTP/1.1\" 200 OK\n",
      "INFO:     ::1:59054 - \"GET /2/tiles/2/1/0 HTTP/1.1\" 200 OK\n",
      "INFO:     ::1:59054 - \"GET /2/tiles/3/1/1 HTTP/1.1\" 200 OK\n",
      "INFO:     ::1:59053 - \"GET /2/tiles/3/1/2 HTTP/1.1\" 200 OK\n",
      "INFO:     ::1:59052 - \"GET /2/tiles/3/2/2 HTTP/1.1\" 200 OK\n",
      "INFO:     ::1:59059 - \"GET /2/tiles/3/2/1 HTTP/1.1\" 200 OK\n",
      "INFO:     ::1:59059 - \"GET /2/tiles/1/-1/0 HTTP/1.1\" 200 OK\n",
      "INFO:     ::1:59052 - \"GET /2/tiles/1/-1/-1 HTTP/1.1\" 200 OK\n",
      "INFO:     ::1:59054 - \"GET /2/tiles/1/0/-1 HTTP/1.1\" 200 OK\n",
      "INFO:     ::1:59053 - \"GET /2/tiles/1/-1/1 HTTP/1.1\" 200 OK\n",
      "INFO:     ::1:59053 - \"GET /2/tiles/3/0/-1 HTTP/1.1\" 200 OK\n",
      "INFO:     ::1:59054 - \"GET /2/tiles/3/0/0 HTTP/1.1\" 200 OK\n",
      "INFO:     ::1:59053 - \"GET /2/tiles/3/1/-1 HTTP/1.1\" 200 OK\n",
      "INFO:     ::1:59052 - \"GET /2/tiles/3/0/1 HTTP/1.1\" 200 OK\n",
      "INFO:     ::1:59054 - \"GET /2/tiles/3/1/0 HTTP/1.1\" 200 OK\n",
      "INFO:     ::1:59054 - \"GET /2/tiles/4/1/0 HTTP/1.1\" 200 OK\n",
      "INFO:     ::1:59052 - \"GET /2/tiles/4/2/0 HTTP/1.1\" 200 OK\n",
      "INFO:     ::1:59059 - \"GET /2/tiles/4/1/1 HTTP/1.1\" 200 OK\n",
      "INFO:     ::1:59086 - \"GET /2/tiles/4/2/1 HTTP/1.1\" 200 OK\n",
      "INFO:     ::1:59086 - \"GET /2/tiles/5/4/0 HTTP/1.1\" 200 OK\n",
      "INFO:     ::1:59059 - \"GET /2/tiles/5/5/0 HTTP/1.1\" 200 OK\n",
      "INFO:     ::1:59052 - \"GET /2/tiles/5/4/1 HTTP/1.1\" 200 OK\n",
      "INFO:     ::1:59054 - \"GET /2/tiles/5/5/1 HTTP/1.1\" 200 OK\n",
      "INFO:     ::1:59054 - \"GET /2/tiles/4/1/0 HTTP/1.1\" 200 OK\n",
      "INFO:     ::1:59054 - \"GET /2/tiles/4/1/1 HTTP/1.1\" 200 OK\n",
      "INFO:     ::1:59052 - \"GET /2/tiles/4/2/1 HTTP/1.1\" 200 OK\n",
      "INFO:     ::1:59052 - \"GET /2/tiles/3/0/0 HTTP/1.1\" 200 OK\n",
      "INFO:     ::1:59054 - \"GET /2/tiles/3/1/0 HTTP/1.1\" 200 OK\n",
      "INFO:     ::1:59054 - \"GET /2/tiles/3/1/-1 HTTP/1.1\" 200 OK\n",
      "INFO:     ::1:59052 - \"GET /2/tiles/3/0/-1 HTTP/1.1\" 200 OK\n",
      "INFO:     ::1:59052 - \"GET /2/tiles/3/0/1 HTTP/1.1\" 200 OK\n",
      "INFO:     ::1:59054 - \"GET /2/tiles/3/1/1 HTTP/1.1\" 200 OK\n",
      "INFO:     ::1:59054 - \"GET /2/tiles/2/0/0 HTTP/1.1\" 200 OK\n",
      "INFO:     ::1:59054 - \"GET /2/tiles/2/0/-1 HTTP/1.1\" 200 OK\n",
      "INFO:     ::1:59052 - \"GET /2/tiles/2/0/1 HTTP/1.1\" 200 OK\n",
      "INFO:     ::1:59054 - \"GET /2/tiles/2/1/0 HTTP/1.1\" 200 OK\n",
      "INFO:     ::1:59112 - \"GET /2/tiles/2/1/1 HTTP/1.1\" 200 OK\n",
      "INFO:     ::1:59112 - \"GET /2/tiles/1/0/0 HTTP/1.1\" 200 OK\n",
      "INFO:     ::1:59112 - \"GET /2/tiles/1/-1/-1 HTTP/1.1\" 200 OK\n",
      "INFO:     ::1:59052 - \"GET /2/tiles/1/-1/0 HTTP/1.1\" 200 OK\n",
      "INFO:     ::1:59054 - \"GET /2/tiles/1/0/-1 HTTP/1.1\" 200 OK\n"
     ]
    }
   ],
   "source": [
    "# Grabbing first item from demo DSA instance\n",
    "base_url = 'http://ec2-3-230-122-132.compute-1.amazonaws.com:8080/api/v1'\n",
    "item_id = '64f545302d82d04be3e39eec'\n",
    "\n",
    "# Starting the DSAHandler to grab information:\n",
    "dsa_handler = DSAHandler(\n",
    "    girderApiUrl = base_url\n",
    ")\n",
    "dsa_tileservers = [dsa_handler.get_tile_server(item_id)]\n",
    "\n",
    "local_slide_list = [\n",
    "    'C:\\\\Users\\\\samuelborder\\\\Desktop\\\\HIVE_Stuff\\\\FUSION\\\\Test Upload\\\\XY01_IU-21-015F_001.svs',\n",
    "    'C:\\\\Users\\\\samuelborder\\\\Desktop\\\\HIVE_Stuff\\\\FUSION\\\\Test Upload\\\\XY01_IU-21-015F.svs',\n",
    "    \"C:\\\\Users\\\\samuelborder\\\\Desktop\\\\HIVE_Stuff\\\\FUSION\\\\Test Upload\\\\non_kidney\\\\visium_histology_hires_pyramid.ome.tif\"\n",
    "]\n",
    "local_annotations_list = [\n",
    "    'C:\\\\Users\\\\samuelborder\\\\Desktop\\\\HIVE_Stuff\\\\FUSION\\\\Test Upload\\\\XY01_IU-21-015F_001.xml',\n",
    "    None,\n",
    "    load_visium(\"C:\\\\Users\\\\samuelborder\\\\Desktop\\\\HIVE_Stuff\\\\FUSION\\\\Test Upload\\\\non_kidney\\\\secondary_analysis (1).h5ad\",)\n",
    "]\n",
    "\n",
    "vis_session = Visualization(\n",
    "    local_slides=local_slide_list,\n",
    "    local_annotations = local_annotations_list,\n",
    "    tileservers = dsa_tileservers,\n",
    "    components = [\n",
    "        [\n",
    "            SlideMap(),\n",
    "            [\n",
    "                OverlayOptions(),\n",
    "                PropertyViewer(),\n",
    "                PropertyPlotter(),\n",
    "                HRAViewer()\n",
    "            ]\n",
    "        ]\n",
    "    ],\n",
    "    app_options = {\n",
    "        'jupyter': True,\n",
    "        'port': 8060,\n",
    "    }\n",
    ")\n",
    "\n",
    "vis_session.start()\n",
    "\n"
   ]
  }
 ],
 "metadata": {
  "kernelspec": {
   "display_name": ".venv",
   "language": "python",
   "name": "python3"
  },
  "language_info": {
   "codemirror_mode": {
    "name": "ipython",
    "version": 3
   },
   "file_extension": ".py",
   "mimetype": "text/x-python",
   "name": "python",
   "nbconvert_exporter": "python",
   "pygments_lexer": "ipython3",
   "version": "3.11.3"
  }
 },
 "nbformat": 4,
 "nbformat_minor": 2
}
